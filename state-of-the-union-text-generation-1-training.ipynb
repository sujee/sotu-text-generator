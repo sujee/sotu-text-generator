{
 "cells": [
  {
   "cell_type": "markdown",
   "metadata": {},
   "source": [
    "# State of the Union Text Generator - Part 1 - Training\n",
    "\n",
    "Train 'state of the union' text :-) "
   ]
  },
  {
   "cell_type": "markdown",
   "metadata": {},
   "source": [
    "## Step - Configuration"
   ]
  },
  {
   "cell_type": "code",
   "execution_count": 1,
   "metadata": {},
   "outputs": [],
   "source": [
    "\n",
    "DATA_FILES_CLINTON = ['data/1993-Clinton.txt', 'data/1994-Clinton.txt', 'data/1995-Clinton.txt', 'data/1996-Clinton.txt',\n",
    "                      'data/1997-Clinton.txt', 'data/1998-Clinton.txt', 'data/1999-Clinton.txt']\n",
    "\n",
    "DATA_FILE_GWBUSH = ['data/2001-GWBush-1.txt', 'data/2001-GWBush-2.txt', 'data/2002-GWBush.txt', 'data/2003-GWBush.txt', 'data/2004-GWBush.txt',\n",
    "                    'data/2005-GWBush.txt', 'data/2006-GWBush.txt', 'data/2007-GWBush.txt', 'data/2008-GWBush.txt']\n",
    "\n",
    "DATA_FILES_OBAMA = ['data/2009-Obama.txt', 'data/2010-Obama.txt', 'data/2011-Obama.txt', 'data/2012-Obama.txt', \n",
    "              'data/2013-Obama.txt', 'data/2014-Obama.txt', 'data/2015-Obama.txt', 'data/2016-Obama.txt']\n",
    "\n",
    "DATA_FILES_TRUMP = ['data/2017-Trump.txt', 'data/2018-Trump.txt', 'data/2019-Trump.txt', 'data/2020-Trump.txt']\n",
    "\n",
    "## for clinton\n",
    "# APP_NAME = 'sotu-clinton'\n",
    "# DATA_FILES = DATA_FILES_CLINTON\n",
    "\n",
    "# ## gw bush\n",
    "# APP_NAME = 'sotu-gwbush'\n",
    "# DATA_FILES = DATA_FILES_GWBUSH\n",
    "\n",
    "# ## for obama\n",
    "APP_NAME = 'sotu-obama'\n",
    "DATA_FILES = DATA_FILES_OBAMA\n",
    "\n",
    "# # ## trump\n",
    "# APP_NAME = 'sotu-trump'\n",
    "# DATA_FILES = DATA_FILES_TRUMP\n",
    "\n",
    "## for 2000+\n",
    "# APP_NAME = 'sotu-last4'\n",
    "# DATA_FILES = DATA_FILES_CLINTON + DATA_FILE_GWBUSH + DATA_FILES_OBAMA + DATA_FILES_TRUMP"
   ]
  },
  {
   "cell_type": "code",
   "execution_count": 2,
   "metadata": {},
   "outputs": [
    {
     "name": "stdout",
     "output_type": "stream",
     "text": [
      "tensorflow version : 2.3.0\n"
     ]
    },
    {
     "data": {
      "text/plain": [
       "[PhysicalDevice(name='/physical_device:CPU:0', device_type='CPU'),\n",
       " PhysicalDevice(name='/physical_device:XLA_CPU:0', device_type='XLA_CPU'),\n",
       " PhysicalDevice(name='/physical_device:XLA_GPU:0', device_type='XLA_GPU'),\n",
       " PhysicalDevice(name='/physical_device:GPU:0', device_type='GPU')]"
      ]
     },
     "execution_count": 2,
     "metadata": {},
     "output_type": "execute_result"
    }
   ],
   "source": [
    "try:\n",
    "  # %tensorflow_version only exists in Colab.\n",
    "  %tensorflow_version 2.x\n",
    "except Exception:\n",
    "  pass\n",
    "\n",
    "import tensorflow as tf\n",
    "from tensorflow import keras\n",
    "print ('tensorflow version :', tf.__version__)\n",
    "tf.config.experimental.list_physical_devices()"
   ]
  },
  {
   "cell_type": "markdown",
   "metadata": {},
   "source": [
    "## TF-GPU Debug\n",
    "The following block tests if TF is running on GPU."
   ]
  },
  {
   "cell_type": "code",
   "execution_count": 3,
   "metadata": {},
   "outputs": [
    {
     "name": "stdout",
     "output_type": "stream",
     "text": [
      "Device mapping:\n",
      "/job:localhost/replica:0/task:0/device:XLA_CPU:0 -> device: XLA_CPU device\n",
      "/job:localhost/replica:0/task:0/device:XLA_GPU:0 -> device: XLA_GPU device\n",
      "/job:localhost/replica:0/task:0/device:GPU:0 -> device: 0, name: GeForce RTX 2070, pci bus id: 0000:01:00.0, compute capability: 7.5\n",
      "\n"
     ]
    }
   ],
   "source": [
    "## This block is to tweak TF running on GPU\n",
    "## You may comment this out, if you are not using GPU\n",
    "\n",
    "## ---- start Memory setting ----\n",
    "## Ask TF not to allocate all GPU memory at once.. allocate as needed\n",
    "## Without this the execution will fail with \"failed to initialize algorithm\" error\n",
    "\n",
    "from tensorflow.compat.v1.keras.backend import set_session\n",
    "config = tf.compat.v1.ConfigProto()\n",
    "config.gpu_options.allow_growth = True  # dynamically grow the memory used on the GPU\n",
    "config.log_device_placement = True  # to log device placement (on which device the operation ran)\n",
    "sess = tf.compat.v1.Session(config=config)\n",
    "set_session(sess)\n",
    "## ---- end Memory setting ----"
   ]
  },
  {
   "cell_type": "markdown",
   "metadata": {},
   "source": [
    "## Step - Read the Text Corups"
   ]
  },
  {
   "cell_type": "code",
   "execution_count": 4,
   "metadata": {},
   "outputs": [
    {
     "name": "stdout",
     "output_type": "stream",
     "text": [
      "file :  data/2009-Obama.txt , num lines :  586\n",
      "file :  data/2010-Obama.txt , num lines :  686\n",
      "file :  data/2011-Obama.txt , num lines :  680\n",
      "file :  data/2012-Obama.txt , num lines :  677\n",
      "file :  data/2013-Obama.txt , num lines :  661\n",
      "file :  data/2014-Obama.txt , num lines :  259\n",
      "file :  data/2015-Obama.txt , num lines :  678\n",
      "file :  data/2016-Obama.txt , num lines :  561\n",
      "corpus total num lines :  4788\n"
     ]
    }
   ],
   "source": [
    "import os, pathlib\n",
    "\n",
    "corpus = []\n",
    "\n",
    "#for f in os.listdir(DATA_DIR):\n",
    "    #file_name = os.path.join(DATA_DIR, f)\n",
    "\n",
    "for file_name in DATA_FILES:\n",
    "    with open(file_name, 'r') as file:\n",
    "        file_contents = file.readlines()\n",
    "        print ('file : ', file_name, ', num lines : ', len(file_contents))\n",
    "        \n",
    "        for line in file_contents:\n",
    "            corpus.append(line)  \n",
    "\n",
    "print ('corpus total num lines : ', len(corpus))"
   ]
  },
  {
   "cell_type": "markdown",
   "metadata": {},
   "source": [
    "## Step - Text Cleanup\n",
    "\n",
    "- lower case all text\n",
    "- remove punctuations\n",
    "- We are not removing stop words, as it may impact the meaning of text"
   ]
  },
  {
   "cell_type": "code",
   "execution_count": 5,
   "metadata": {},
   "outputs": [
    {
     "name": "stdout",
     "output_type": "stream",
     "text": [
      "word_count_corpus : 54209\n",
      "word_count_corpus_clean : 53895\n",
      "removed words :  314\n"
     ]
    }
   ],
   "source": [
    "from nltk.tokenize import RegexpTokenizer\n",
    "\n",
    "corpus_clean = []\n",
    "\n",
    "# this will tokenize full words, seperate from punctuations\n",
    "regex_tokenizer = RegexpTokenizer(r'\\w+')\n",
    "\n",
    "word_count_corpus = 0\n",
    "word_count_corpus_clean = 0\n",
    "for sentence in corpus:\n",
    "    #print (sentence)\n",
    "    \n",
    "    ## step 1 : lowercase\n",
    "    sentence = sentence.lower()\n",
    "    \n",
    "    ##  Step 2 : break into words\n",
    "    words = regex_tokenizer.tokenize (sentence)\n",
    "    word_count_corpus += len(words)\n",
    "    \n",
    "    ## Step 3 : remove punctuations, numbers ..etc\n",
    "    words_clean =[word for word in words if word.isalpha()]\n",
    "    word_count_corpus_clean += len(words_clean)\n",
    "    \n",
    "    #print (\"words:\" , words)\n",
    "       \n",
    "    if len(words_clean) > 0:\n",
    "        sentence_clean = \" \".join(words_clean)\n",
    "        #print (sentence_clean)\n",
    "        #print (\"====\")\n",
    "        corpus_clean.append(sentence_clean)\n",
    "    \n",
    "print ('word_count_corpus :', word_count_corpus)\n",
    "print ('word_count_corpus_clean :', word_count_corpus_clean)\n",
    "print ('removed words : ', (word_count_corpus - word_count_corpus_clean))"
   ]
  },
  {
   "cell_type": "markdown",
   "metadata": {},
   "source": [
    "## Step - Tokenize"
   ]
  },
  {
   "cell_type": "code",
   "execution_count": 6,
   "metadata": {},
   "outputs": [],
   "source": [
    "from tensorflow.keras.preprocessing.text import Tokenizer\n",
    "\n",
    "tokenizer = Tokenizer(oov_token='<OOV>')\n",
    "tokenizer.fit_on_texts(corpus_clean)"
   ]
  },
  {
   "cell_type": "markdown",
   "metadata": {},
   "source": [
    "### Print out some basic info"
   ]
  },
  {
   "cell_type": "code",
   "execution_count": 7,
   "metadata": {},
   "outputs": [
    {
     "name": "stdout",
     "output_type": "stream",
     "text": [
      "total num words : 4957\n",
      "\n",
      "Some random word mappings : \n",
      "{'broke': 1716,\n",
      " 'coast': 2025,\n",
      " 'customs': 4627,\n",
      " 'dirtier': 4792,\n",
      " 'dozen': 4055,\n",
      " 'drapes': 2828,\n",
      " 'energetx': 3636,\n",
      " 'harassed': 4682,\n",
      " 'maintaining': 2287,\n",
      " 'unsafe': 3586}\n",
      "\n",
      "Top-N words:\n",
      "[('the', 2349),\n",
      " ('and', 1831),\n",
      " ('to', 1792),\n",
      " ('of', 1295),\n",
      " ('we', 1193),\n",
      " ('that', 1172),\n",
      " ('a', 1064),\n",
      " ('our', 901),\n",
      " ('in', 847),\n",
      " ('s', 627),\n",
      " ('i', 559),\n",
      " ('for', 537),\n",
      " ('it', 501),\n",
      " ('is', 475),\n",
      " ('this', 433),\n",
      " ('will', 413),\n",
      " ('on', 361),\n",
      " ('have', 356),\n",
      " ('are', 333),\n",
      " ('with', 316)]\n"
     ]
    }
   ],
   "source": [
    "## Basic info\n",
    "from  collections import Counter\n",
    "from pprint import pprint\n",
    "\n",
    "def sample_from_dict(d, sample=10):\n",
    "    import random\n",
    "    \n",
    "    keys = random.sample(list(d), sample)\n",
    "    values = [d[k] for k in keys]\n",
    "    return dict(zip(keys, values))\n",
    "\n",
    "print ('total num words :', len(tokenizer.word_index)+1)\n",
    "print ('\\nSome random word mappings : ')\n",
    "pprint (sample_from_dict(tokenizer.word_index))\n",
    "\n",
    "\n",
    "counter = Counter(tokenizer.word_counts)\n",
    "print ('\\nTop-N words:')\n",
    "pprint(counter.most_common(20))"
   ]
  },
  {
   "cell_type": "markdown",
   "metadata": {},
   "source": [
    "## Step - Save Tokenizer"
   ]
  },
  {
   "cell_type": "code",
   "execution_count": 8,
   "metadata": {},
   "outputs": [],
   "source": [
    "import json \n",
    "\n",
    "tokenizer_json = tokenizer.to_json()\n",
    "\n",
    "with open(APP_NAME + '.json', 'w', encoding='utf-8') as f:\n",
    "    f.write(json.dumps(tokenizer_json, ensure_ascii=False))"
   ]
  },
  {
   "cell_type": "markdown",
   "metadata": {},
   "source": [
    "## Create Input Sequences\n",
    "\n",
    "Here we are creating ngram sequence like this:\n",
    "\n",
    "```text\n",
    "line:  mr. speaker, mr. vice president, members of congress, my fellow\n",
    "\n",
    "   token_list:  [505, 533, 505, 534, 206, 506, 4, 77, 84, 423]\n",
    "     1: n_gram_sequence: [505, 533]\n",
    "     1: input_sequences: [[505, 533]]\n",
    "\n",
    "     2: n_gram_sequence: [505, 533, 505]\n",
    "     2: input_sequences: [[505, 533], [505, 533, 505]]\n",
    "\n",
    "     3: n_gram_sequence: [505, 533, 505, 534]\n",
    "     3: input_sequences: [[505, 533], [505, 533, 505], [505, 533, 505, 534]]\n",
    "\n",
    "     4: n_gram_sequence: [505, 533, 505, 534, 206]\n",
    "     4: input_sequences: [[505, 533], [505, 533, 505], [505, 533, 505, 534], [505, 533, 505, 534, 206]]\n",
    "```"
   ]
  },
  {
   "cell_type": "code",
   "execution_count": 9,
   "metadata": {},
   "outputs": [
    {
     "name": "stdout",
     "output_type": "stream",
     "text": [
      "total_words :  4957\n"
     ]
    }
   ],
   "source": [
    "\n",
    "## for debug, uncomment this and test it on smaller corpus\n",
    "# corpus_clean = corpus_clean[:10]\n",
    "\n",
    "input_sequences = []\n",
    "\n",
    "for line in corpus_clean:\n",
    "    #print ('line: ', line)\n",
    "    token_list = tokenizer.texts_to_sequences([line])[0]\n",
    "    #print ('   token_list: ', token_list)\n",
    "    for i in range(1, len(token_list)):\n",
    "        n_gram_sequence = token_list[:i+1]\n",
    "        #print ('     {}: n_gram_sequence: {}'.format(i, n_gram_sequence))\n",
    "        input_sequences.append(n_gram_sequence)\n",
    "        #print ('     {}: input_sequences: {}'.format(i,input_sequences ))\n",
    "        #print()\n",
    "\n",
    "total_words = len(tokenizer.word_index) + 1\n",
    "print ('total_words : ', total_words)"
   ]
  },
  {
   "cell_type": "code",
   "execution_count": 10,
   "metadata": {},
   "outputs": [
    {
     "name": "stdout",
     "output_type": "stream",
     "text": [
      "max_sequence_len:  132\n",
      "xs.shape : (49905, 131)\n",
      "ys.shape : (49905, 4957)\n"
     ]
    }
   ],
   "source": [
    "import numpy as np\n",
    "from tensorflow.keras.preprocessing.sequence import pad_sequences\n",
    "\n",
    "# pad sequences \n",
    "max_sequence_len = max([len(x) for x in input_sequences])\n",
    "print ('max_sequence_len: ', max_sequence_len)\n",
    "\n",
    "input_sequences = np.array(pad_sequences(input_sequences, maxlen=max_sequence_len, padding='pre'))\n",
    "# print ('\\ninput_sequences:')\n",
    "# print(input_sequences)\n",
    "\n",
    "# create predictors and label\n",
    "xs, labels = input_sequences[:,:-1],input_sequences[:,-1]\n",
    "# print ('\\nxs:')\n",
    "# print (xs)\n",
    "# print ('\\nlabels')\n",
    "# print (labels)\n",
    "\n",
    "ys = tf.keras.utils.to_categorical(labels, num_classes=total_words)\n",
    "# print ('\\nys')\n",
    "# print (ys)\n",
    "\n",
    "print ('xs.shape :', xs.shape)\n",
    "print ('ys.shape :', ys.shape)"
   ]
  },
  {
   "cell_type": "markdown",
   "metadata": {},
   "source": [
    "## Setup Tensorboard"
   ]
  },
  {
   "cell_type": "code",
   "execution_count": 11,
   "metadata": {},
   "outputs": [
    {
     "name": "stdout",
     "output_type": "stream",
     "text": [
      "Saving TB logs to :  /tmp/tensorboard-logs/sotu-obama/20-39-54\n"
     ]
    }
   ],
   "source": [
    "## Step - TensorBoard\n",
    "## This is fairly boiler plate code\n",
    "\n",
    "import datetime\n",
    "import os\n",
    "import shutil\n",
    "\n",
    "app_name = APP_NAME\n",
    "# timestamp  = datetime.datetime.now().strftime(\"%Y-%m-%d--%H-%M-%S\")\n",
    "tb_top_level_dir= '/tmp/tensorboard-logs'\n",
    "tb_app_dir = os.path.join (tb_top_level_dir, app_name)\n",
    "tb_logs_dir = os.path.join (tb_app_dir, datetime.datetime.now().strftime(\"%H-%M-%S\"))\n",
    "\n",
    "print (\"Saving TB logs to : \" , tb_logs_dir)\n",
    "#clear out old logs\n",
    "shutil.rmtree ( tb_app_dir, ignore_errors=True )\n",
    "\n",
    "tensorboard_callback = tf.keras.callbacks.TensorBoard(log_dir=tb_logs_dir, write_graph=True, \n",
    "                                                      write_images=True, histogram_freq=1)\n",
    "\n",
    "## This will embed Tensorboard right here in jupyter!\n",
    "# %load_ext tensorboard\n",
    "#%tensorboard --logdir $tb_logs_dir"
   ]
  },
  {
   "cell_type": "markdown",
   "metadata": {},
   "source": [
    "## Step - Build Model"
   ]
  },
  {
   "cell_type": "code",
   "execution_count": 12,
   "metadata": {},
   "outputs": [
    {
     "name": "stdout",
     "output_type": "stream",
     "text": [
      "Model: \"sequential\"\n",
      "_________________________________________________________________\n",
      "Layer (type)                 Output Shape              Param #   \n",
      "=================================================================\n",
      "embedding (Embedding)        (None, 131, 100)          495700    \n",
      "_________________________________________________________________\n",
      "bidirectional (Bidirectional (None, 131, 256)          234496    \n",
      "_________________________________________________________________\n",
      "dropout (Dropout)            (None, 131, 256)          0         \n",
      "_________________________________________________________________\n",
      "bidirectional_1 (Bidirection (None, 256)               394240    \n",
      "_________________________________________________________________\n",
      "dense (Dense)                (None, 4957)              1273949   \n",
      "=================================================================\n",
      "Total params: 2,398,385\n",
      "Trainable params: 2,398,385\n",
      "Non-trainable params: 0\n",
      "_________________________________________________________________\n"
     ]
    },
    {
     "data": {
      "image/png": "[encoded data removed]",
      "text/plain": [
       "<IPython.core.display.Image object>"
      ]
     },
     "execution_count": 12,
     "metadata": {},
     "output_type": "execute_result"
    }
   ],
   "source": [
    "from tensorflow.keras.layers import Embedding, LSTM, Dense, Bidirectional, Dropout\n",
    "from tensorflow.keras.models import Sequential\n",
    "from tensorflow.keras.optimizers import Adam\n",
    "\n",
    "\n",
    "## Basic model 1\n",
    "model = Sequential([\n",
    "            Embedding(input_dim=total_words, output_dim=100, input_length=max_sequence_len-1),\n",
    "            Bidirectional(LSTM(64)),\n",
    "            Dense(total_words, activation='softmax')\n",
    "    ])\n",
    "\n",
    "## Model 2\n",
    "# model = Sequential([\n",
    "#             Embedding(input_dim=total_words, output_dim=100, input_length=max_sequence_len-1),\n",
    "#             Bidirectional(LSTM(64, return_sequences=True)),\n",
    "#             Bidirectional(LSTM(64)),\n",
    "#             Dense(total_words, activation='softmax')\n",
    "#     ])\n",
    "\n",
    "## Model 3\n",
    "# model = Sequential([\n",
    "#             Embedding(input_dim=total_words, output_dim=100, input_length=max_sequence_len-1),\n",
    "#             Bidirectional(LSTM(64, return_sequences=True)),\n",
    "#             Dropout(0.2),\n",
    "#             Bidirectional(LSTM(64)),\n",
    "#             Dense(total_words, activation='softmax')\n",
    "#     ])\n",
    "\n",
    "\n",
    "# opt = 'adam'\n",
    "# opt = Adam(lr=0.01)\n",
    "\n",
    "model.compile(loss='categorical_crossentropy', \n",
    "              optimizer = 'adam',\n",
    "              metrics=['accuracy'])\n",
    "    \n",
    "model.summary()\n",
    "\n",
    "tf.keras.utils.plot_model(model, to_file='model.png', show_shapes=True)"
   ]
  },
  {
   "cell_type": "markdown",
   "metadata": {},
   "source": [
    "## Step - Train"
   ]
  },
  {
   "cell_type": "code",
   "execution_count": 13,
   "metadata": {},
   "outputs": [
    {
     "name": "stdout",
     "output_type": "stream",
     "text": [
      "Epoch 1/500\n",
      "   1/1248 [..............................] - ETA: 0s - loss: 8.5086 - accuracy: 0.0000e+00WARNING:tensorflow:From /home/sujee/anaconda3/envs/tf-gpu/lib/python3.8/site-packages/tensorflow/python/ops/summary_ops_v2.py:1277: stop (from tensorflow.python.eager.profiler) is deprecated and will be removed after 2020-07-01.\n",
      "Instructions for updating:\n",
      "use `tf.profiler.experimental.stop` instead.\n",
      "   2/1248 [..............................] - ETA: 1:20 - loss: 8.5069 - accuracy: 0.0000e+00WARNING:tensorflow:Callbacks method `on_train_batch_end` is slow compared to the batch time (batch time: 0.0376s vs `on_train_batch_end` time: 0.0916s). Check your callbacks.\n",
      "1248/1248 [==============================] - 44s 35ms/step - loss: 6.4985 - accuracy: 0.0511 - val_loss: 6.3350 - val_accuracy: 0.0625\n",
      "Epoch 2/500\n",
      "1248/1248 [==============================] - 44s 35ms/step - loss: 6.0089 - accuracy: 0.0731 - val_loss: 6.2061 - val_accuracy: 0.0939\n",
      "Epoch 3/500\n",
      "1248/1248 [==============================] - 43s 35ms/step - loss: 5.7014 - accuracy: 0.1012 - val_loss: 6.1465 - val_accuracy: 0.1104\n",
      "Epoch 4/500\n",
      "1248/1248 [==============================] - 44s 35ms/step - loss: 5.4602 - accuracy: 0.1155 - val_loss: 6.1481 - val_accuracy: 0.1168\n",
      "Epoch 5/500\n",
      "1248/1248 [==============================] - 44s 35ms/step - loss: 5.2557 - accuracy: 0.1283 - val_loss: 6.1718 - val_accuracy: 0.1204\n",
      "Epoch 6/500\n",
      "1248/1248 [==============================] - 44s 35ms/step - loss: 5.0776 - accuracy: 0.1392 - val_loss: 6.2529 - val_accuracy: 0.1298\n",
      "Epoch 7/500\n",
      "1248/1248 [==============================] - 43s 34ms/step - loss: 4.9215 - accuracy: 0.1507 - val_loss: 6.3236 - val_accuracy: 0.1302\n",
      "Epoch 8/500\n",
      "1248/1248 [==============================] - 42s 34ms/step - loss: 4.7814 - accuracy: 0.1589 - val_loss: 6.4318 - val_accuracy: 0.1346\n",
      "Epoch 9/500\n",
      "1248/1248 [==============================] - 44s 35ms/step - loss: 4.6490 - accuracy: 0.1671 - val_loss: 6.5294 - val_accuracy: 0.1336\n",
      "Epoch 10/500\n",
      "1248/1248 [==============================] - 45s 36ms/step - loss: 4.5260 - accuracy: 0.1758 - val_loss: 6.6566 - val_accuracy: 0.1385\n",
      "Epoch 11/500\n",
      "1248/1248 [==============================] - 42s 33ms/step - loss: 4.4039 - accuracy: 0.1830 - val_loss: 6.7962 - val_accuracy: 0.1345\n",
      "Epoch 12/500\n",
      "1248/1248 [==============================] - 44s 36ms/step - loss: 4.2916 - accuracy: 0.1905 - val_loss: 6.9127 - val_accuracy: 0.1393\n",
      "Epoch 13/500\n",
      "1248/1248 [==============================] - 44s 35ms/step - loss: 4.1791 - accuracy: 0.1973 - val_loss: 7.0446 - val_accuracy: 0.1362\n",
      "Epoch 14/500\n",
      "1248/1248 [==============================] - 43s 34ms/step - loss: 4.0759 - accuracy: 0.2067 - val_loss: 7.1963 - val_accuracy: 0.1372\n",
      "Epoch 15/500\n",
      "1248/1248 [==============================] - 44s 36ms/step - loss: 3.9767 - accuracy: 0.2155 - val_loss: 7.3156 - val_accuracy: 0.1381\n",
      "Epoch 16/500\n",
      "1248/1248 [==============================] - 44s 35ms/step - loss: 3.8809 - accuracy: 0.2251 - val_loss: 7.4407 - val_accuracy: 0.1376\n",
      "Epoch 17/500\n",
      "1248/1248 [==============================] - 45s 36ms/step - loss: 3.7862 - accuracy: 0.2333 - val_loss: 7.5562 - val_accuracy: 0.1382\n",
      "Epoch 18/500\n",
      "1248/1248 [==============================] - 42s 34ms/step - loss: 3.6885 - accuracy: 0.2441 - val_loss: 7.6910 - val_accuracy: 0.1338\n",
      "Epoch 19/500\n",
      "1248/1248 [==============================] - 44s 35ms/step - loss: 3.5915 - accuracy: 0.2560 - val_loss: 7.8139 - val_accuracy: 0.1373\n",
      "Epoch 20/500\n",
      "1248/1248 [==============================] - 43s 35ms/step - loss: 3.5016 - accuracy: 0.2690 - val_loss: 7.9158 - val_accuracy: 0.1320\n",
      "Epoch 21/500\n",
      "1248/1248 [==============================] - 43s 35ms/step - loss: 3.4238 - accuracy: 0.2788 - val_loss: 8.0153 - val_accuracy: 0.1310\n",
      "Epoch 22/500\n",
      "1248/1248 [==============================] - 44s 35ms/step - loss: 3.3337 - accuracy: 0.2916 - val_loss: 8.1560 - val_accuracy: 0.1342\n",
      "Epoch 23/500\n",
      "1248/1248 [==============================] - 44s 35ms/step - loss: 3.2545 - accuracy: 0.3031 - val_loss: 8.2872 - val_accuracy: 0.1370\n",
      "Epoch 24/500\n",
      "1248/1248 [==============================] - 44s 35ms/step - loss: 3.1745 - accuracy: 0.3154 - val_loss: 8.3810 - val_accuracy: 0.1324\n",
      "Epoch 25/500\n",
      "1248/1248 [==============================] - 42s 33ms/step - loss: 3.0946 - accuracy: 0.3286 - val_loss: 8.5149 - val_accuracy: 0.1303\n",
      "Epoch 26/500\n",
      "1248/1248 [==============================] - 43s 34ms/step - loss: 3.0219 - accuracy: 0.3388 - val_loss: 8.6154 - val_accuracy: 0.1327\n",
      "Epoch 27/500\n",
      "1248/1248 [==============================] - 42s 34ms/step - loss: 2.9484 - accuracy: 0.3512 - val_loss: 8.7155 - val_accuracy: 0.1285\n",
      "Epoch 28/500\n",
      "1248/1248 [==============================] - 42s 33ms/step - loss: 2.8866 - accuracy: 0.3608 - val_loss: 8.8339 - val_accuracy: 0.1273\n",
      "Epoch 29/500\n",
      "1248/1248 [==============================] - 43s 34ms/step - loss: 2.8159 - accuracy: 0.3725 - val_loss: 8.9414 - val_accuracy: 0.1269\n",
      "Epoch 30/500\n",
      "1248/1248 [==============================] - 45s 36ms/step - loss: 2.7516 - accuracy: 0.3804 - val_loss: 9.0744 - val_accuracy: 0.1258\n",
      "Epoch 31/500\n",
      "1248/1248 [==============================] - 43s 35ms/step - loss: 2.6848 - accuracy: 0.3955 - val_loss: 9.1416 - val_accuracy: 0.1270\n",
      "Epoch 32/500\n",
      "1248/1248 [==============================] - 44s 35ms/step - loss: 2.6314 - accuracy: 0.4039 - val_loss: 9.2534 - val_accuracy: 0.1267\n",
      "Epoch 33/500\n",
      "1248/1248 [==============================] - 43s 35ms/step - loss: 2.5716 - accuracy: 0.4139 - val_loss: 9.3665 - val_accuracy: 0.1262\n",
      "Epoch 34/500\n",
      "1248/1248 [==============================] - 45s 36ms/step - loss: 2.5081 - accuracy: 0.4248 - val_loss: 9.4860 - val_accuracy: 0.1253\n",
      "Epoch 35/500\n",
      "1248/1248 [==============================] - 43s 35ms/step - loss: 2.4525 - accuracy: 0.4338 - val_loss: 9.5358 - val_accuracy: 0.1214\n",
      "Epoch 36/500\n",
      "1248/1248 [==============================] - 43s 35ms/step - loss: 2.4093 - accuracy: 0.4445 - val_loss: 9.5907 - val_accuracy: 0.1221\n",
      "Epoch 37/500\n",
      "1248/1248 [==============================] - 44s 35ms/step - loss: 2.3708 - accuracy: 0.4493 - val_loss: 9.6952 - val_accuracy: 0.1217\n",
      "Epoch 38/500\n",
      "1248/1248 [==============================] - 44s 35ms/step - loss: 2.3132 - accuracy: 0.4619 - val_loss: 9.8547 - val_accuracy: 0.1176\n",
      "Epoch 39/500\n",
      "1248/1248 [==============================] - 43s 34ms/step - loss: 2.2536 - accuracy: 0.4758 - val_loss: 9.9184 - val_accuracy: 0.1235\n",
      "Epoch 40/500\n",
      "1248/1248 [==============================] - 40s 32ms/step - loss: 2.2035 - accuracy: 0.4843 - val_loss: 10.0467 - val_accuracy: 0.1203\n",
      "Epoch 41/500\n",
      "1248/1248 [==============================] - 50s 40ms/step - loss: 2.1566 - accuracy: 0.4912 - val_loss: 10.1777 - val_accuracy: 0.1179\n",
      "Epoch 42/500\n",
      "1248/1248 [==============================] - 39s 31ms/step - loss: 2.1062 - accuracy: 0.5022 - val_loss: 10.2240 - val_accuracy: 0.1211\n",
      "Epoch 43/500\n",
      "1248/1248 [==============================] - 37s 29ms/step - loss: 2.0634 - accuracy: 0.5114 - val_loss: 10.3408 - val_accuracy: 0.1155\n",
      "Epoch 44/500\n",
      "1248/1248 [==============================] - 45s 36ms/step - loss: 2.0114 - accuracy: 0.5205 - val_loss: 10.3889 - val_accuracy: 0.1152\n",
      "Epoch 45/500\n",
      "1248/1248 [==============================] - 41s 32ms/step - loss: 1.9692 - accuracy: 0.5305 - val_loss: 10.5243 - val_accuracy: 0.1169\n",
      "Epoch 46/500\n",
      "1248/1248 [==============================] - 41s 33ms/step - loss: 1.9262 - accuracy: 0.5377 - val_loss: 10.5641 - val_accuracy: 0.1146\n",
      "Epoch 47/500\n",
      "1248/1248 [==============================] - 45s 36ms/step - loss: 1.8841 - accuracy: 0.5476 - val_loss: 10.7289 - val_accuracy: 0.1173\n",
      "Epoch 48/500\n",
      "1248/1248 [==============================] - 45s 36ms/step - loss: 1.8451 - accuracy: 0.5575 - val_loss: 10.7926 - val_accuracy: 0.1138\n",
      "Epoch 49/500\n",
      "1248/1248 [==============================] - 47s 37ms/step - loss: 1.8127 - accuracy: 0.5622 - val_loss: 10.8898 - val_accuracy: 0.1155\n",
      "Epoch 50/500\n",
      "1248/1248 [==============================] - 42s 34ms/step - loss: 1.7663 - accuracy: 0.5713 - val_loss: 10.9921 - val_accuracy: 0.1143\n",
      "Epoch 51/500\n",
      "1248/1248 [==============================] - 43s 34ms/step - loss: 1.7321 - accuracy: 0.5808 - val_loss: 11.0118 - val_accuracy: 0.1139\n",
      "Epoch 52/500\n",
      "1248/1248 [==============================] - 47s 37ms/step - loss: 1.7038 - accuracy: 0.5856 - val_loss: 11.1124 - val_accuracy: 0.1147\n",
      "Epoch 53/500\n",
      "1248/1248 [==============================] - 48s 39ms/step - loss: 1.6659 - accuracy: 0.5927 - val_loss: 11.2038 - val_accuracy: 0.1137\n",
      "Epoch 54/500\n",
      "1248/1248 [==============================] - 54s 43ms/step - loss: 1.6324 - accuracy: 0.6010 - val_loss: 11.2923 - val_accuracy: 0.1141\n",
      "Epoch 55/500\n",
      "1248/1248 [==============================] - 52s 42ms/step - loss: 1.5962 - accuracy: 0.6075 - val_loss: 11.3291 - val_accuracy: 0.1140\n",
      "Epoch 56/500\n",
      "1248/1248 [==============================] - 51s 41ms/step - loss: 1.5635 - accuracy: 0.6162 - val_loss: 11.4355 - val_accuracy: 0.1115\n",
      "Epoch 57/500\n",
      "1248/1248 [==============================] - 54s 43ms/step - loss: 1.5746 - accuracy: 0.6125 - val_loss: 11.5374 - val_accuracy: 0.1098\n",
      "Epoch 58/500\n",
      "1248/1248 [==============================] - 52s 42ms/step - loss: 1.5142 - accuracy: 0.6261 - val_loss: 11.5813 - val_accuracy: 0.1052\n",
      "Epoch 59/500\n",
      "1248/1248 [==============================] - 53s 42ms/step - loss: 1.4779 - accuracy: 0.6339 - val_loss: 11.6911 - val_accuracy: 0.1087\n",
      "Epoch 60/500\n",
      "1248/1248 [==============================] - 51s 41ms/step - loss: 1.4464 - accuracy: 0.6411 - val_loss: 11.7603 - val_accuracy: 0.1111\n",
      "Epoch 61/500\n",
      "1248/1248 [==============================] - 52s 41ms/step - loss: 1.4106 - accuracy: 0.6492 - val_loss: 11.8824 - val_accuracy: 0.1085\n",
      "Epoch 62/500\n",
      "1248/1248 [==============================] - 51s 41ms/step - loss: 1.3796 - accuracy: 0.6570 - val_loss: 11.9311 - val_accuracy: 0.1076\n",
      "Epoch 63/500\n",
      "1248/1248 [==============================] - 54s 43ms/step - loss: 1.3692 - accuracy: 0.6590 - val_loss: 12.0657 - val_accuracy: 0.1085\n",
      "Epoch 64/500\n",
      "1248/1248 [==============================] - 50s 40ms/step - loss: 1.3363 - accuracy: 0.6650 - val_loss: 12.0964 - val_accuracy: 0.1089\n",
      "Epoch 65/500\n",
      "1248/1248 [==============================] - 53s 43ms/step - loss: 1.3127 - accuracy: 0.6719 - val_loss: 12.1987 - val_accuracy: 0.1091\n",
      "Epoch 66/500\n",
      "1248/1248 [==============================] - 53s 42ms/step - loss: 1.2855 - accuracy: 0.6776 - val_loss: 12.2371 - val_accuracy: 0.1082\n",
      "Epoch 67/500\n",
      "1248/1248 [==============================] - 38s 30ms/step - loss: 1.2601 - accuracy: 0.6851 - val_loss: 12.3649 - val_accuracy: 0.1089\n",
      "Epoch 68/500\n",
      "1248/1248 [==============================] - 41s 33ms/step - loss: 1.2462 - accuracy: 0.6873 - val_loss: 12.4392 - val_accuracy: 0.1052\n",
      "Epoch 69/500\n",
      "1248/1248 [==============================] - 41s 33ms/step - loss: 1.2179 - accuracy: 0.6939 - val_loss: 12.4843 - val_accuracy: 0.1040\n",
      "Epoch 70/500\n",
      "1248/1248 [==============================] - 41s 33ms/step - loss: 1.1887 - accuracy: 0.7002 - val_loss: 12.5261 - val_accuracy: 0.1038\n",
      "Epoch 71/500\n",
      "1248/1248 [==============================] - 41s 33ms/step - loss: 1.1697 - accuracy: 0.7039 - val_loss: 12.6185 - val_accuracy: 0.1070\n",
      "Epoch 72/500\n",
      "1248/1248 [==============================] - 37s 30ms/step - loss: 1.1465 - accuracy: 0.7100 - val_loss: 12.7619 - val_accuracy: 0.1045\n",
      "Epoch 73/500\n",
      "1248/1248 [==============================] - 42s 34ms/step - loss: 1.1184 - accuracy: 0.7171 - val_loss: 12.8070 - val_accuracy: 0.1023\n",
      "Epoch 74/500\n",
      "1248/1248 [==============================] - 43s 35ms/step - loss: 1.1079 - accuracy: 0.7180 - val_loss: 12.8602 - val_accuracy: 0.1054\n",
      "Epoch 75/500\n",
      "1248/1248 [==============================] - 42s 33ms/step - loss: 1.0827 - accuracy: 0.7234 - val_loss: 12.9316 - val_accuracy: 0.1044\n",
      "Epoch 76/500\n",
      "1248/1248 [==============================] - 43s 35ms/step - loss: 1.0668 - accuracy: 0.7268 - val_loss: 12.8627 - val_accuracy: 0.1005\n",
      "Epoch 77/500\n",
      "1248/1248 [==============================] - 43s 35ms/step - loss: 1.0589 - accuracy: 0.7305 - val_loss: 12.9919 - val_accuracy: 0.1058\n",
      "Epoch 78/500\n",
      "1248/1248 [==============================] - 43s 34ms/step - loss: 1.0381 - accuracy: 0.7355 - val_loss: 13.0861 - val_accuracy: 0.1055\n",
      "Epoch 79/500\n",
      "1248/1248 [==============================] - 43s 34ms/step - loss: 1.0086 - accuracy: 0.7426 - val_loss: 13.1085 - val_accuracy: 0.1032\n",
      "Epoch 80/500\n",
      "1248/1248 [==============================] - 43s 35ms/step - loss: 0.9937 - accuracy: 0.7461 - val_loss: 13.1913 - val_accuracy: 0.1016\n",
      "Epoch 81/500\n",
      "1248/1248 [==============================] - 44s 35ms/step - loss: 0.9852 - accuracy: 0.7470 - val_loss: 13.3071 - val_accuracy: 0.0986\n",
      "Epoch 82/500\n",
      "1248/1248 [==============================] - 50s 40ms/step - loss: 0.9608 - accuracy: 0.7511 - val_loss: 13.3699 - val_accuracy: 0.1002\n",
      "Epoch 83/500\n",
      "1248/1248 [==============================] - 36s 29ms/step - loss: 0.9467 - accuracy: 0.7572 - val_loss: 13.3791 - val_accuracy: 0.1011\n",
      "Epoch 84/500\n",
      "1248/1248 [==============================] - 35s 28ms/step - loss: 0.9321 - accuracy: 0.7608 - val_loss: 13.4437 - val_accuracy: 0.1004\n",
      "Epoch 85/500\n",
      "1248/1248 [==============================] - 35s 28ms/step - loss: 0.9161 - accuracy: 0.7645 - val_loss: 13.5134 - val_accuracy: 0.1022\n",
      "Epoch 86/500\n",
      "1248/1248 [==============================] - 35s 28ms/step - loss: 0.9250 - accuracy: 0.7592 - val_loss: 13.5849 - val_accuracy: 0.1029\n",
      "Epoch 87/500\n",
      "1248/1248 [==============================] - 35s 28ms/step - loss: 0.8755 - accuracy: 0.7746 - val_loss: 13.6676 - val_accuracy: 0.1008\n",
      "Epoch 88/500\n",
      "1248/1248 [==============================] - 36s 29ms/step - loss: 0.8739 - accuracy: 0.7741 - val_loss: 13.6231 - val_accuracy: 0.0998\n",
      "Epoch 89/500\n",
      "1248/1248 [==============================] - 35s 28ms/step - loss: 0.8567 - accuracy: 0.7783 - val_loss: 13.7481 - val_accuracy: 0.1036\n",
      "Epoch 90/500\n",
      "1248/1248 [==============================] - 34s 27ms/step - loss: 0.8547 - accuracy: 0.7768 - val_loss: 13.8128 - val_accuracy: 0.1003\n",
      "Epoch 91/500\n",
      "1248/1248 [==============================] - 35s 28ms/step - loss: 0.8421 - accuracy: 0.7820 - val_loss: 13.8167 - val_accuracy: 0.0999\n",
      "Epoch 92/500\n",
      "1248/1248 [==============================] - 34s 27ms/step - loss: 0.8309 - accuracy: 0.7812 - val_loss: 13.8692 - val_accuracy: 0.1017\n",
      "Epoch 93/500\n",
      "1248/1248 [==============================] - 35s 28ms/step - loss: 0.8069 - accuracy: 0.7900 - val_loss: 13.9260 - val_accuracy: 0.0988\n",
      "Epoch 94/500\n",
      "1248/1248 [==============================] - 34s 27ms/step - loss: 0.7899 - accuracy: 0.7934 - val_loss: 14.0980 - val_accuracy: 0.0985\n",
      "Epoch 95/500\n",
      "1248/1248 [==============================] - 34s 27ms/step - loss: 0.7879 - accuracy: 0.7920 - val_loss: 14.1266 - val_accuracy: 0.0991\n",
      "Epoch 96/500\n",
      "1248/1248 [==============================] - 35s 28ms/step - loss: 0.7817 - accuracy: 0.7955 - val_loss: 14.1214 - val_accuracy: 0.0991\n",
      "Epoch 97/500\n",
      "1248/1248 [==============================] - 36s 29ms/step - loss: 0.7697 - accuracy: 0.7963 - val_loss: 14.1710 - val_accuracy: 0.0974\n",
      "Epoch 98/500\n",
      "1248/1248 [==============================] - 34s 27ms/step - loss: 0.7403 - accuracy: 0.8080 - val_loss: 14.2737 - val_accuracy: 0.1001\n",
      "Epoch 99/500\n",
      "1248/1248 [==============================] - 35s 28ms/step - loss: 0.7500 - accuracy: 0.7997 - val_loss: 14.2573 - val_accuracy: 0.0968\n",
      "Epoch 100/500\n",
      "1248/1248 [==============================] - 35s 28ms/step - loss: 0.7550 - accuracy: 0.7991 - val_loss: 14.3605 - val_accuracy: 0.0992\n",
      "Epoch 101/500\n",
      "1248/1248 [==============================] - 35s 28ms/step - loss: 0.7511 - accuracy: 0.7988 - val_loss: 14.3677 - val_accuracy: 0.0977\n",
      "Epoch 102/500\n",
      "1248/1248 [==============================] - 35s 28ms/step - loss: 0.7208 - accuracy: 0.8081 - val_loss: 14.3488 - val_accuracy: 0.1019\n",
      "Epoch 103/500\n",
      "1248/1248 [==============================] - 34s 28ms/step - loss: 0.7038 - accuracy: 0.8115 - val_loss: 14.4454 - val_accuracy: 0.1007\n",
      "Epoch 104/500\n",
      "1248/1248 [==============================] - 41s 33ms/step - loss: 0.6954 - accuracy: 0.8164 - val_loss: 14.4883 - val_accuracy: 0.0995\n",
      "Epoch 105/500\n",
      "1248/1248 [==============================] - 43s 34ms/step - loss: 0.6843 - accuracy: 0.8185 - val_loss: 14.5817 - val_accuracy: 0.1013\n",
      "Epoch 106/500\n",
      "1248/1248 [==============================] - 38s 30ms/step - loss: 0.6793 - accuracy: 0.8199 - val_loss: 14.6619 - val_accuracy: 0.0991\n",
      "Epoch 107/500\n",
      "1248/1248 [==============================] - 39s 31ms/step - loss: 0.6841 - accuracy: 0.8193 - val_loss: 14.6573 - val_accuracy: 0.1004\n",
      "Epoch 108/500\n",
      "1248/1248 [==============================] - 41s 33ms/step - loss: 0.6674 - accuracy: 0.8205 - val_loss: 14.6817 - val_accuracy: 0.0982\n",
      "Epoch 109/500\n",
      "1248/1248 [==============================] - 39s 31ms/step - loss: 0.6698 - accuracy: 0.8190 - val_loss: 14.6962 - val_accuracy: 0.0980\n",
      "Epoch 110/500\n",
      "1248/1248 [==============================] - 38s 30ms/step - loss: 0.6332 - accuracy: 0.8315 - val_loss: 14.7323 - val_accuracy: 0.0980\n",
      "Epoch 111/500\n",
      "1248/1248 [==============================] - 38s 30ms/step - loss: 0.6408 - accuracy: 0.8305 - val_loss: 14.8298 - val_accuracy: 0.0973\n",
      "Epoch 112/500\n",
      "1248/1248 [==============================] - 39s 31ms/step - loss: 0.6449 - accuracy: 0.8261 - val_loss: 14.8319 - val_accuracy: 0.0990\n",
      "Epoch 113/500\n",
      "1248/1248 [==============================] - 38s 30ms/step - loss: 0.6333 - accuracy: 0.8305 - val_loss: 14.9267 - val_accuracy: 0.0986\n",
      "Epoch 114/500\n",
      "1248/1248 [==============================] - 39s 31ms/step - loss: 0.6331 - accuracy: 0.8311 - val_loss: 14.9026 - val_accuracy: 0.1007\n",
      "Epoch 115/500\n",
      "1248/1248 [==============================] - 40s 32ms/step - loss: 0.6130 - accuracy: 0.8367 - val_loss: 14.9662 - val_accuracy: 0.0945\n",
      "Epoch 116/500\n",
      "1248/1248 [==============================] - 36s 29ms/step - loss: 0.6143 - accuracy: 0.8350 - val_loss: 15.1622 - val_accuracy: 0.0925\n",
      "Epoch 117/500\n",
      "1248/1248 [==============================] - 37s 30ms/step - loss: 0.6082 - accuracy: 0.8371 - val_loss: 15.0983 - val_accuracy: 0.0967\n",
      "Epoch 118/500\n",
      "1248/1248 [==============================] - 37s 30ms/step - loss: 0.6160 - accuracy: 0.8340 - val_loss: 15.0731 - val_accuracy: 0.0998\n",
      "Epoch 119/500\n",
      "1248/1248 [==============================] - 38s 30ms/step - loss: 0.6057 - accuracy: 0.8371 - val_loss: 15.0569 - val_accuracy: 0.0973\n",
      "Epoch 120/500\n",
      "1248/1248 [==============================] - 39s 31ms/step - loss: 0.5901 - accuracy: 0.8404 - val_loss: 15.2137 - val_accuracy: 0.0979\n",
      "Epoch 00120: early stopping\n",
      "CPU times: user 2h 10min 7s, sys: 7min 58s, total: 2h 18min 6s\n",
      "Wall time: 1h 24min 14s\n"
     ]
    }
   ],
   "source": [
    "%%time \n",
    "\n",
    "cb_early_stop = tf.keras.callbacks.EarlyStopping(monitor='accuracy', min_delta=0.01, patience=10, verbose=2)\n",
    "\n",
    "checkpoint_path = \"model-checkpoint/model.ckpt\"\n",
    "cb_checkpoint = tf.keras.callbacks.ModelCheckpoint(filepath=checkpoint_path,\n",
    "                                                 save_weights_only=True,\n",
    "                                                 verbose=1)\n",
    "\n",
    "## without validation\n",
    "# history = model.fit(xs, ys, epochs=500, \n",
    "#                     verbose=1, callbacks=[tensorboard_callback])\n",
    "\n",
    "\n",
    "## train with validation\n",
    "history = model.fit(xs, ys, validation_split=0.2, epochs=500, \n",
    "                    verbose=1, callbacks=[tensorboard_callback, cb_early_stop])"
   ]
  },
  {
   "cell_type": "markdown",
   "metadata": {},
   "source": [
    "## Step - Visualize Training"
   ]
  },
  {
   "cell_type": "code",
   "execution_count": 14,
   "metadata": {},
   "outputs": [
    {
     "data": {
      "image/png": "[encoded data removed]",
      "text/plain": [
       "<Figure size 432x288 with 1 Axes>"
      ]
     },
     "metadata": {
      "needs_background": "light"
     },
     "output_type": "display_data"
    }
   ],
   "source": [
    "%matplotlib inline\n",
    "import matplotlib.pyplot as plt\n",
    "\n",
    "plt.plot(history.history['accuracy'], label='train_accuracy')\n",
    "if 'val_accuracy' in history.history:\n",
    "    plt.plot(history.history['val_accuracy'], label='val_accuracy')\n",
    "plt.legend()\n",
    "plt.show()"
   ]
  },
  {
   "cell_type": "markdown",
   "metadata": {},
   "source": [
    "## Step - Save the model for reuse later\n",
    "As you can see training takes a long time.  \n",
    "Let's save the resulting model, so we can use it quickly without going through training again."
   ]
  },
  {
   "cell_type": "code",
   "execution_count": 15,
   "metadata": {},
   "outputs": [
    {
     "name": "stdout",
     "output_type": "stream",
     "text": [
      "model saved as 'sotu-obama-model.h5',  size = 28,855,252 bytes / 28,179.0 KB  / 27.5 MB\n"
     ]
    }
   ],
   "source": [
    "import os\n",
    "\n",
    "model_file = APP_NAME + '-model.h5'\n",
    "model.save(model_file)\n",
    "\n",
    "model_size_in_bytes = os.path.getsize(model_file)\n",
    "print (\"model saved as '{}',  size = {:,} bytes / {:,.1f} KB  / {:,.1f} MB\".format(model_file, \n",
    "                                    model_size_in_bytes, model_size_in_bytes / 1024, \n",
    "                                    model_size_in_bytes / (1024*1024) ))"
   ]
  },
  {
   "cell_type": "markdown",
   "metadata": {},
   "source": [
    "## Cleanup \n",
    "Before running the next exercise, run the following cell to terminate processes and free up resources"
   ]
  },
  {
   "cell_type": "code",
   "execution_count": 16,
   "metadata": {},
   "outputs": [],
   "source": [
    "## Kill any child processes (like tensorboard)\n",
    "\n",
    "import psutil\n",
    "import os, signal\n",
    "\n",
    "current_process = psutil.Process()\n",
    "children = current_process.children(recursive=True)\n",
    "for child in children:\n",
    "    print('Killing Child pid  {}'.format(child.pid))\n",
    "    os.kill(child.pid, signal.SIGKILL)\n",
    "    \n",
    "## This will kill actual kernel itself\n",
    "# os.kill(os.getpid(), signal.SIGKILL)"
   ]
  }
 ],
 "metadata": {
  "kernelspec": {
   "display_name": "Python 3",
   "language": "python",
   "name": "python3"
  },
  "language_info": {
   "codemirror_mode": {
    "name": "ipython",
    "version": 3
   },
   "file_extension": ".py",
   "mimetype": "text/x-python",
   "name": "python",
   "nbconvert_exporter": "python",
   "pygments_lexer": "ipython3",
   "version": "3.8.2"
  }
 },
 "nbformat": 4,
 "nbformat_minor": 4
}
