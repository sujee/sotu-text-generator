{
 "cells": [
  {
   "cell_type": "code",
   "execution_count": null,
   "metadata": {},
   "outputs": [],
   "source": []
  },
  {
   "cell_type": "code",
   "execution_count": 26,
   "metadata": {},
   "outputs": [],
   "source": [
    "## obama sotu\n",
    "DATA_DIR = 'data/state-of-the-union/obama'\n",
    "APP_NAME = 'sotu-obama'\n",
    "\n",
    "## all sotu after 2000\n",
    "# DATA_DIR = 'data/state-of-the-union/2000+'\n",
    "# APP_NAME = 'sotu-2000+'\n",
    "\n",
    "## trump sotu\n",
    "# DATA_DIR = 'data/state-of-the-union/trump'\n",
    "# APP_NAME = 'sotu-trump'\n"
   ]
  },
  {
   "cell_type": "code",
   "execution_count": 27,
   "metadata": {},
   "outputs": [
    {
     "name": "stdout",
     "output_type": "stream",
     "text": [
      "file :  data/state-of-the-union/obama/2016-Obama.txt , num lines :  561\n",
      "file :  data/state-of-the-union/obama/2009-Obama.txt , num lines :  586\n",
      "file :  data/state-of-the-union/obama/2010-Obama.txt , num lines :  686\n",
      "file :  data/state-of-the-union/obama/2011-Obama.txt , num lines :  680\n",
      "file :  data/state-of-the-union/obama/2013-Obama.txt , num lines :  661\n",
      "file :  data/state-of-the-union/obama/2015-Obama.txt , num lines :  678\n",
      "file :  data/state-of-the-union/obama/2014-Obama.txt , num lines :  259\n",
      "file :  data/state-of-the-union/obama/2012-Obama.txt , num lines :  677\n",
      "corpus total num lines :  4788\n"
     ]
    }
   ],
   "source": [
    "import os, pathlib\n",
    "\n",
    "corpus = []\n",
    "\n",
    "for f in os.listdir(DATA_DIR):\n",
    "    file_name = os.path.join(DATA_DIR, f)\n",
    "    \n",
    "    with open(file_name, 'r') as file:\n",
    "        file_contents = file.readlines()\n",
    "        print ('file : ', file_name, ', num lines : ', len(file_contents))\n",
    "        \n",
    "        for line in file_contents:\n",
    "            corpus.append(line)  # lower case\n",
    "\n",
    "print ('corpus total num lines : ', len(corpus))"
   ]
  },
  {
   "cell_type": "code",
   "execution_count": 4,
   "metadata": {},
   "outputs": [],
   "source": [
    "# lower case text\n",
    "corpus = [line.lower() for line in corpus]\n",
    "\n"
   ]
  },
  {
   "cell_type": "code",
   "execution_count": 28,
   "metadata": {},
   "outputs": [
    {
     "name": "stdout",
     "output_type": "stream",
     "text": [
      "['i', 'me', 'my', 'myself', 'we', 'our', 'ours', 'ourselves', 'you', \"you're\", \"you've\", \"you'll\", \"you'd\", 'your', 'yours', 'yourself', 'yourselves', 'he', 'him', 'his', 'himself', 'she', \"she's\", 'her', 'hers', 'herself', 'it', \"it's\", 'its', 'itself', 'they', 'them', 'their', 'theirs', 'themselves', 'what', 'which', 'who', 'whom', 'this', 'that', \"that'll\", 'these', 'those', 'am', 'is', 'are', 'was', 'were', 'be', 'been', 'being', 'have', 'has', 'had', 'having', 'do', 'does', 'did', 'doing', 'a', 'an', 'the', 'and', 'but', 'if', 'or', 'because', 'as', 'until', 'while', 'of', 'at', 'by', 'for', 'with', 'about', 'against', 'between', 'into', 'through', 'during', 'before', 'after', 'above', 'below', 'to', 'from', 'up', 'down', 'in', 'out', 'on', 'off', 'over', 'under', 'again', 'further', 'then', 'once', 'here', 'there', 'when', 'where', 'why', 'how', 'all', 'any', 'both', 'each', 'few', 'more', 'most', 'other', 'some', 'such', 'no', 'nor', 'not', 'only', 'own', 'same', 'so', 'than', 'too', 'very', 's', 't', 'can', 'will', 'just', 'don', \"don't\", 'should', \"should've\", 'now', 'd', 'll', 'm', 'o', 're', 've', 'y', 'ain', 'aren', \"aren't\", 'couldn', \"couldn't\", 'didn', \"didn't\", 'doesn', \"doesn't\", 'hadn', \"hadn't\", 'hasn', \"hasn't\", 'haven', \"haven't\", 'isn', \"isn't\", 'ma', 'mightn', \"mightn't\", 'mustn', \"mustn't\", 'needn', \"needn't\", 'shan', \"shan't\", 'shouldn', \"shouldn't\", 'wasn', \"wasn't\", 'weren', \"weren't\", 'won', \"won't\", 'wouldn', \"wouldn't\"]\n"
     ]
    },
    {
     "name": "stderr",
     "output_type": "stream",
     "text": [
      "[nltk_data] Downloading package stopwords to /home/sujee/nltk_data...\n",
      "[nltk_data]   Package stopwords is already up-to-date!\n"
     ]
    }
   ],
   "source": [
    "# next remove stop words\n",
    "\n",
    "import nltk\n",
    "from nltk.corpus import stopwords\n",
    "nltk.download('stopwords')\n",
    "\n",
    "\n",
    "en_stop_words = stopwords.words('english')\n",
    "print (en_stop_words)"
   ]
  },
  {
   "cell_type": "code",
   "execution_count": 29,
   "metadata": {},
   "outputs": [
    {
     "name": "stdout",
     "output_type": "stream",
     "text": [
      "word_count_corpus : 54209\n",
      "word_count_corpus_clean : 53895\n",
      "removed words :  314\n"
     ]
    }
   ],
   "source": [
    "from nltk.tokenize import RegexpTokenizer\n",
    "\n",
    "corpus_clean = []\n",
    "\n",
    "# this will tokenize full words, seperate from punctuations\n",
    "regex_tokenizer = RegexpTokenizer(r'\\w+')\n",
    "\n",
    "word_count_corpus = 0\n",
    "word_count_corpus_clean = 0\n",
    "for sentence in corpus:\n",
    "    #print (sentence)\n",
    "    \n",
    "    ## step 1 : lowercase\n",
    "    sentence = sentence.lower()\n",
    "    \n",
    "    ##  Step 2 : break into words\n",
    "    words = regex_tokenizer.tokenize (sentence)\n",
    "    word_count_corpus += len(words)\n",
    "    \n",
    "    ## Step 3 : remove punctuations, numbers ..etc\n",
    "    words_clean =[word for word in words if word.isalpha()]\n",
    "    word_count_corpus_clean += len(words_clean)\n",
    "    \n",
    "    #print (\"words:\" , words)\n",
    "       \n",
    "    if len(words_clean) > 0:\n",
    "        sentence_clean = \" \".join(words_clean)\n",
    "        #print (sentence_clean)\n",
    "        #print (\"====\")\n",
    "        corpus_clean.append(sentence_clean)\n",
    "    \n",
    "# print (\"len(corpus) :\", len(corpus))\n",
    "# print (\"len(corpus_clean) :\", len(corpus_clean))\n",
    "print ('word_count_corpus :', word_count_corpus)\n",
    "print ('word_count_corpus_clean :', word_count_corpus_clean)\n",
    "print ('removed words : ', (word_count_corpus - word_count_corpus_clean))"
   ]
  },
  {
   "cell_type": "code",
   "execution_count": null,
   "metadata": {},
   "outputs": [],
   "source": []
  }
 ],
 "metadata": {
  "kernelspec": {
   "display_name": "Python 3",
   "language": "python",
   "name": "python3"
  },
  "language_info": {
   "codemirror_mode": {
    "name": "ipython",
    "version": 3
   },
   "file_extension": ".py",
   "mimetype": "text/x-python",
   "name": "python",
   "nbconvert_exporter": "python",
   "pygments_lexer": "ipython3",
   "version": "3.8.2"
  }
 },
 "nbformat": 4,
 "nbformat_minor": 4
}
